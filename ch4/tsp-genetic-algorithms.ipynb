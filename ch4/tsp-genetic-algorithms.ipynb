{
 "cells": [
  {
   "cell_type": "markdown",
   "metadata": {
    "collapsed": true,
    "pycharm": {
     "name": "#%% md\n"
    }
   },
   "source": [
    "# Traveling Salesman Problem (TSP) solved with Genetic Algorithms.\n",
    "\n",
    "The Traveling Salesman Problem is a classic optimization problem that has as objective to calculate the most efficient\n",
    "way to visit N cities with minimum travelled distance.\n",
    "\n",
    "We will use a basic genetic algorithm to solve this problem by finding an optimum solution.\n",
    "\n",
    "Also, we will use the DEAP library to solve this problem, more on this library on the following\n",
    "[link.](https://deap.readthedocs.io)\n",
    "\n",
    "## The Algorithm.\n",
    "First we need some imports:"
   ]
  },
  {
   "cell_type": "code",
   "source": [
    "import os\n",
    "import pickle\n",
    "import array\n",
    "import csv\n",
    "import codecs\n",
    "import random\n",
    "from urllib.request import urlopen\n",
    "from deap import base\n",
    "from deap import creator\n",
    "from deap import tools\n",
    "from deap import algorithms\n",
    "import numpy as np\n",
    "import matplotlib.pyplot as plt\n",
    "import seaborn as sns"
   ],
   "metadata": {
    "collapsed": false,
    "pycharm": {
     "name": "#%%\n"
    }
   },
   "execution_count": 62,
   "outputs": []
  },
  {
   "cell_type": "markdown",
   "source": [
    "Then we need to define a function to read the problem data, we will load data from the following site:\n",
    "[http://elib.zib.de/pub/mp-testdata/tsp/tsplib/tsp/](http://elib.zib.de/pub/mp-testdata/tsp/tsplib/tsp/)\n",
    "\n",
    "The following function fetch the data from the remote service and parses into a 2-dimensional array. We will use python\n",
    "serialization to cache the data, so we don't overload the source site with requests."
   ],
   "metadata": {
    "collapsed": false,
    "pycharm": {
     "name": "#%% md\n"
    }
   }
  },
  {
   "cell_type": "code",
   "execution_count": 63,
   "outputs": [],
   "source": [
    "URL_PREFIX = 'http://elib.zib.de/pub/mp-testdata/tsp/tsplib/tsp/'\n",
    "\n",
    "\n",
    "def read_tsp_data(tsp_name):\n",
    "    \"\"\"\n",
    "    This function reads the tsp problem sample into an array of coordinates.\n",
    "    :param tsp_name: the tsp problem name.\n",
    "    :return: a 2-dimensional array with the city coordinates.\n",
    "    \"\"\"\n",
    "    try:\n",
    "        locations = pickle.load(open(os.path.join('tsp-data', tsp_name + '-loc.pickle'), 'rb'))\n",
    "        distances = pickle.load(open(os.path.join('tsp-data', tsp_name + '-dist.pickle'), 'rb'))\n",
    "        return locations, distances\n",
    "    except(OSError, IOError):\n",
    "        pass\n",
    "\n",
    "    locations = []\n",
    "    # open url with tsp data\n",
    "    tsp_url = URL_PREFIX + tsp_name + '.tsp'\n",
    "    with urlopen(tsp_url) as f:\n",
    "        # read the data as a csv file delimited with whitespaces (utf-8 character encoding)\n",
    "        reader = csv.reader(codecs.iterdecode(f, 'utf-8'), delimiter=' ', skipinitialspace=True)\n",
    "        # ignore all the lines upto the start of the city coordinates\n",
    "        for row in reader:\n",
    "            if row[0] in ('DISPLAY_DATA_SECTION', 'NODE_COORD_SECTION'):\n",
    "                break\n",
    "        for row in reader:\n",
    "            # if we reach the end of the data exit\n",
    "            if row[0] == 'EOF':\n",
    "                break\n",
    "            # delete the index, we need the coordinates only\n",
    "            del row[0]\n",
    "            locations.append(np.asarray(row, dtype=np.float32))\n",
    "\n",
    "    # calculate distances using vector norm\n",
    "    number_cities = len(locations)\n",
    "    distances = [[0] * number_cities for _ in locations]\n",
    "    for i in range(number_cities):\n",
    "        for j in range(i + 1, number_cities):\n",
    "            # vector norm\n",
    "            distance = np.linalg.norm(locations[j] - locations[i])\n",
    "            distances[i][j] = distances[j][i] = distance\n",
    "\n",
    "    if not os.path.exists('tsp-data'):\n",
    "        os.makedirs('tsp-data')\n",
    "    pickle.dump(locations, open(os.path.join('tsp-data', tsp_name + '-loc.pickle'), 'wb'))\n",
    "    pickle.dump(distances, open(os.path.join('tsp-data', tsp_name + '-dist.pickle'), 'wb'))\n",
    "    return locations, distances"
   ],
   "metadata": {
    "collapsed": false,
    "pycharm": {
     "name": "#%%\n"
    }
   }
  },
  {
   "cell_type": "markdown",
   "source": [
    "We will use 29 cities of Bavaria dataset."
   ],
   "metadata": {
    "collapsed": false,
    "pycharm": {
     "name": "#%% md\n"
    }
   }
  },
  {
   "cell_type": "code",
   "execution_count": 64,
   "outputs": [],
   "source": [
    "CITIES, DISTANCES = read_tsp_data('bayg29')\n",
    "NUMBER_CITIES = len(CITIES)"
   ],
   "metadata": {
    "collapsed": false,
    "pycharm": {
     "name": "#%%\n"
    }
   }
  },
  {
   "cell_type": "markdown",
   "source": [
    "We need to define the algorithm hyper-parameters like:\n",
    "- `NUM_GENERATIONS`: the number of generations that we will iterate applying\n",
    "genetic algorithm operators to search for new optimal solutions.\n",
    "- `POPULATION_SIZE`: the population size or how many potential solutions we will\n",
    "use in each generation of the algorithm.\n",
    "- `P_CROSSOVER`: the probability for an individual to be selected for crossover (mating)\n",
    "- `P_MUTATION`: the probability for an individual to be selected for a random\n",
    "mutation."
   ],
   "metadata": {
    "collapsed": false
   }
  },
  {
   "cell_type": "code",
   "execution_count": 65,
   "outputs": [],
   "source": [
    "NUM_GENERATIONS = 200\n",
    "POPULATION_SIZE = 100\n",
    "P_CROSSOVER = 0.9\n",
    "P_MUTATION = 0.1"
   ],
   "metadata": {
    "collapsed": false,
    "pycharm": {
     "name": "#%%\n"
    }
   }
  },
  {
   "cell_type": "markdown",
   "source": [
    "Next, we define the algorithm types, first the fitness type that will inherit\n",
    "from the class `Fitness`, we need a negative weight because we are minimizing\n",
    "the distance.\n",
    "Also, we create an individual type, this will inherit from the python `list`\n",
    "class, because we are going to represent the cities by using an ordered array\n",
    "of city indexes to represent the solution, for example, if we have `NUMBER_CITIES` cities,\n",
    "we will have the following as a potential solution:\n",
    "\n",
    "*NOTE: `individual` refers a particular instance or solution to the problem.*"
   ],
   "metadata": {
    "collapsed": false
   }
  },
  {
   "cell_type": "code",
   "execution_count": 66,
   "outputs": [
    {
     "name": "stdout",
     "output_type": "stream",
     "text": [
      "[17, 12, 2, 21, 20, 11, 8, 25, 13, 4, 3, 19, 7, 1, 18, 28, 22, 24, 10, 26, 23, 14, 6, 16, 5, 9, 15, 27, 0]\n"
     ]
    }
   ],
   "source": [
    "individual = list(range(NUMBER_CITIES))\n",
    "individual = random.sample(individual, len(individual))\n",
    "print(individual)"
   ],
   "metadata": {
    "collapsed": false,
    "pycharm": {
     "name": "#%%\n"
    }
   }
  },
  {
   "cell_type": "markdown",
   "source": [
    "Now we can define a function to calculate the distances for a particular\n",
    "instance of the problem."
   ],
   "metadata": {
    "collapsed": false,
    "pycharm": {
     "name": "#%% md\n"
    }
   }
  },
  {
   "cell_type": "code",
   "execution_count": 67,
   "outputs": [],
   "source": [
    "def tsp_distance(individual: list) -> float:\n",
    "    \"\"\"\n",
    "    Returns the traveling distance for particular ordering of cities.\n",
    "    :param individual: an ordered list of cities to visit.\n",
    "    :return: the total travelled distance.\n",
    "    \"\"\"\n",
    "    # get distance between first and last city\n",
    "    distance = DISTANCES[individual[0]][individual[-1]]\n",
    "    # add all other distances\n",
    "    for i in range(NUMBER_CITIES - 1):\n",
    "        distance += DISTANCES[individual[i]][individual[i + 1]]\n",
    "    return distance"
   ],
   "metadata": {
    "collapsed": false,
    "pycharm": {
     "name": "#%%\n"
    }
   }
  },
  {
   "cell_type": "markdown",
   "source": [
    "Next, we define the `FitnessMin` type that will represent the minimization objective, and an `Individual` type that will\n",
    "represent an instance or potential solution to this problem."
   ],
   "metadata": {
    "collapsed": false,
    "pycharm": {
     "name": "#%% md\n"
    }
   }
  },
  {
   "cell_type": "code",
   "execution_count": 68,
   "outputs": [
    {
     "name": "stderr",
     "output_type": "stream",
     "text": [
      "/Users/mbassale/devel/genetic-algorithms/venv/lib/python3.9/site-packages/deap/creator.py:138: RuntimeWarning: A class named 'FitnessMin' has already been created and it will be overwritten. Consider deleting previous creation of that class or rename it.\n",
      "  warnings.warn(\"A class named '{0}' has already been created and it \"\n",
      "/Users/mbassale/devel/genetic-algorithms/venv/lib/python3.9/site-packages/deap/creator.py:138: RuntimeWarning: A class named 'Individual' has already been created and it will be overwritten. Consider deleting previous creation of that class or rename it.\n",
      "  warnings.warn(\"A class named '{0}' has already been created and it \"\n"
     ]
    }
   ],
   "source": [
    "creator.create('FitnessMin', base.Fitness, weights=(-1.0,))\n",
    "creator.create('Individual', array.array, typecode='i', fitness=creator.FitnessMin)"
   ],
   "metadata": {
    "collapsed": false,
    "pycharm": {
     "name": "#%%\n"
    }
   }
  },
  {
   "cell_type": "markdown",
   "source": [
    "Also we need to define common operators that will be used to generate the initial population, in this case we need an\n",
    "operator `randomOrder` that will shuffle an ordered array of cities to generate a new random individual.\n",
    "The `individualCreator` operator, is called by the `populationCreator` operator to generate each individual and fill the\n",
    "initial random population."
   ],
   "metadata": {
    "collapsed": false,
    "pycharm": {
     "name": "#%% md\n"
    }
   }
  },
  {
   "cell_type": "code",
   "execution_count": 69,
   "outputs": [],
   "source": [
    "toolbox = base.Toolbox()\n",
    "# Create operator to shuffle the cities\n",
    "toolbox.register('randomOrder', random.sample, range(NUMBER_CITIES), NUMBER_CITIES)\n",
    "# Create initial random individual operator\n",
    "toolbox.register('individualCreator', tools.initIterate, creator.Individual, toolbox.randomOrder)\n",
    "# Create random population operator\n",
    "toolbox.register('populationCreator', tools.initRepeat, list, toolbox.individualCreator)"
   ],
   "metadata": {
    "collapsed": false,
    "pycharm": {
     "name": "#%%\n"
    }
   }
  },
  {
   "cell_type": "markdown",
   "source": [
    "Next we define a function that will calculate the fitness of an individual."
   ],
   "metadata": {
    "collapsed": false,
    "pycharm": {
     "name": "#%% md\n"
    }
   }
  },
  {
   "cell_type": "code",
   "execution_count": 70,
   "outputs": [],
   "source": [
    "def tspFitness(individual) -> tuple:\n",
    "    return tsp_distance(individual),"
   ],
   "metadata": {
    "collapsed": false,
    "pycharm": {
     "name": "#%%\n"
    }
   }
  },
  {
   "cell_type": "markdown",
   "source": [
    "Now we define the core operators that will be used on the genetic algorithm:\n",
    "- `evaluate`: calculates the fitness of an individual.\n",
    "- `select`: chooses the individuals that will be mated to produce new offspring. In this case we use tournament\n",
    "selection of three individuals. To know how the tournament selection works, please check the following\n",
    "[link](https://en.wikipedia.org/wiki/Tournament_selection).\n",
    "- `mate`: performs the crossover (mating) on the previously selected individuals.\n",
    "- `mutate`: selects an individual for mutation. The mutation probability is calculated so at least one index is shuffled."
   ],
   "metadata": {
    "collapsed": false,
    "pycharm": {
     "name": "#%% md\n"
    }
   }
  },
  {
   "cell_type": "code",
   "execution_count": 71,
   "outputs": [],
   "source": [
    "toolbox.register('evaluate', tspFitness)\n",
    "toolbox.register('select', tools.selTournament, tournsize=3)\n",
    "toolbox.register('mate', tools.cxOrdered)\n",
    "toolbox.register('mutate', tools.mutShuffleIndexes, indpb=1.0 / NUMBER_CITIES)"
   ],
   "metadata": {
    "collapsed": false,
    "pycharm": {
     "name": "#%%\n"
    }
   }
  },
  {
   "cell_type": "markdown",
   "source": [
    "Now it's time to generate the initial population."
   ],
   "metadata": {
    "collapsed": false,
    "pycharm": {
     "name": "#%% md\n"
    }
   }
  },
  {
   "cell_type": "code",
   "execution_count": 72,
   "outputs": [],
   "source": [
    "population = toolbox.populationCreator(n=POPULATION_SIZE)"
   ],
   "metadata": {
    "collapsed": false,
    "pycharm": {
     "name": "#%%\n"
    }
   }
  },
  {
   "cell_type": "markdown",
   "source": [
    "A `HallOfFame` object is used to store the best individuals of each generation, we will use it to implement elitism by\n",
    "taking the best individuals from each generation and promoting them to the next generation without applying the genetic\n",
    "operators."
   ],
   "metadata": {
    "collapsed": false,
    "pycharm": {
     "name": "#%% md\n"
    }
   }
  },
  {
   "cell_type": "code",
   "execution_count": 73,
   "outputs": [],
   "source": [
    "HALL_OF_FAME_SIZE = 10\n",
    "hof = tools.HallOfFame(HALL_OF_FAME_SIZE)"
   ],
   "metadata": {
    "collapsed": false,
    "pycharm": {
     "name": "#%%\n"
    }
   }
  },
  {
   "cell_type": "markdown",
   "source": [
    "We use a `Statistics` object to track several statistics of the individuals."
   ],
   "metadata": {
    "collapsed": false,
    "pycharm": {
     "name": "#%% md\n"
    }
   }
  },
  {
   "cell_type": "code",
   "execution_count": 74,
   "outputs": [],
   "source": [
    "stats = tools.Statistics(lambda ind: ind.fitness.values)\n",
    "stats.register('min', np.min)\n",
    "stats.register('avg', np.mean)"
   ],
   "metadata": {
    "collapsed": false,
    "pycharm": {
     "name": "#%%\n"
    }
   }
  },
  {
   "cell_type": "markdown",
   "source": [
    "`Logbook` object is used to track each generation population statistics."
   ],
   "metadata": {
    "collapsed": false,
    "pycharm": {
     "name": "#%% md\n"
    }
   }
  },
  {
   "cell_type": "code",
   "execution_count": 75,
   "outputs": [],
   "source": [
    "logbook = tools.Logbook()\n",
    "logbook.header = ['gen', 'nevals'] + stats.fields"
   ],
   "metadata": {
    "collapsed": false,
    "pycharm": {
     "name": "#%%\n"
    }
   }
  },
  {
   "cell_type": "markdown",
   "source": [
    "Evaluate the individuals with an invalid fitness (all at the beginning)"
   ],
   "metadata": {
    "collapsed": false,
    "pycharm": {
     "name": "#%% md\n"
    }
   }
  },
  {
   "cell_type": "code",
   "source": [
    "invalid_individuals = [ind for ind in population if not ind.fitness.valid]\n",
    "fitnesses = toolbox.map(toolbox.evaluate, invalid_individuals)\n",
    "for ind, fit in zip(invalid_individuals, fitnesses):\n",
    "    ind.fitness.values = fit"
   ],
   "metadata": {
    "collapsed": false,
    "pycharm": {
     "name": "#%%\n"
    }
   },
   "execution_count": 76,
   "outputs": []
  },
  {
   "cell_type": "markdown",
   "source": [
    "Update the hall of fame object with the initial population."
   ],
   "metadata": {
    "collapsed": false,
    "pycharm": {
     "name": "#%% md\n"
    }
   }
  },
  {
   "cell_type": "code",
   "execution_count": 77,
   "outputs": [],
   "source": [
    "hof.update(population)\n",
    "hof_size = len(hof.items)"
   ],
   "metadata": {
    "collapsed": false,
    "pycharm": {
     "name": "#%%\n"
    }
   }
  },
  {
   "cell_type": "markdown",
   "source": [
    "Calculates statistics for the first generation."
   ],
   "metadata": {
    "collapsed": false,
    "pycharm": {
     "name": "#%% md\n"
    }
   }
  },
  {
   "cell_type": "code",
   "execution_count": 78,
   "outputs": [
    {
     "name": "stdout",
     "output_type": "stream",
     "text": [
      "gen\tnevals\tmin    \tavg    \n",
      "0  \t100   \t22441.5\t26572.5\n"
     ]
    }
   ],
   "source": [
    "record = stats.compile(population)\n",
    "logbook.record(gen=0, nevals=len(invalid_individuals), **record)\n",
    "print(logbook.stream)"
   ],
   "metadata": {
    "collapsed": false,
    "pycharm": {
     "name": "#%%\n"
    }
   }
  },
  {
   "cell_type": "markdown",
   "source": [
    "Now we are ready to start the genetic flow, iterating and applying the operators to *evolve* and find an optimum\n",
    "solution."
   ],
   "metadata": {
    "collapsed": false,
    "pycharm": {
     "name": "#%% md\n"
    }
   }
  },
  {
   "cell_type": "code",
   "execution_count": 79,
   "outputs": [
    {
     "name": "stdout",
     "output_type": "stream",
     "text": [
      "1  \t84    \t21076  \t25252.6\n",
      "2  \t76    \t20549.7\t23977.6\n",
      "3  \t78    \t20549.7\t23643.5\n",
      "4  \t84    \t20362.2\t23007.5\n",
      "5  \t75    \t19252.8\t22451.4\n",
      "6  \t75    \t18302.7\t21735.5\n",
      "7  \t85    \t18043.9\t20945.4\n",
      "8  \t84    \t17126.2\t20954.1\n",
      "9  \t88    \t17003.4\t20528.6\n",
      "10 \t84    \t17003.4\t19738.1\n",
      "11 \t80    \t16926.1\t19271.9\n",
      "12 \t79    \t16133.6\t18842.3\n",
      "13 \t89    \t15553.2\t18352.7\n",
      "14 \t74    \t15490.5\t18006.5\n",
      "15 \t83    \t14413.8\t17673.2\n",
      "16 \t81    \t14413.8\t17298.7\n",
      "17 \t78    \t14413.8\t17077.7\n",
      "18 \t86    \t14258.4\t16782.1\n",
      "19 \t79    \t14258.4\t16452  \n",
      "20 \t74    \t13605.2\t15981  \n",
      "21 \t80    \t13553.1\t16029.3\n",
      "22 \t82    \t12906.3\t15506  \n",
      "23 \t84    \t12906.3\t15552.1\n",
      "24 \t86    \t12726  \t15223.5\n",
      "25 \t83    \t12560  \t14852.1\n",
      "26 \t77    \t12146.7\t14598.4\n",
      "27 \t74    \t12146.7\t14287.9\n",
      "28 \t82    \t12146.7\t14164  \n",
      "29 \t83    \t11669.6\t13877.6\n",
      "30 \t82    \t11659.4\t13623.5\n",
      "31 \t82    \t11659.4\t13512.2\n",
      "32 \t82    \t11659.4\t13601.3\n",
      "33 \t79    \t11569.3\t13544.5\n",
      "34 \t86    \t11094.8\t13114.5\n",
      "35 \t79    \t11094.8\t13137.8\n",
      "36 \t82    \t11094.8\t12953.5\n",
      "37 \t75    \t11094.8\t12760.9\n",
      "38 \t80    \t11094.8\t12444.8\n",
      "39 \t76    \t10882.4\t12306.4\n",
      "40 \t85    \t10787.3\t12391  \n",
      "41 \t86    \t10787.3\t12533.5\n",
      "42 \t87    \t10787.3\t12280.7\n",
      "43 \t83    \t10524.6\t12223.8\n",
      "44 \t83    \t10524.6\t12456.4\n",
      "45 \t73    \t10524.6\t11950.5\n",
      "46 \t75    \t10524.6\t11789  \n",
      "47 \t77    \t10524.6\t11815.4\n",
      "48 \t86    \t10524.6\t11605.3\n",
      "49 \t75    \t10524.6\t11278.8\n",
      "50 \t78    \t10524.6\t11209.4\n",
      "51 \t82    \t10524.6\t11141  \n",
      "52 \t85    \t10524.6\t10964.2\n",
      "53 \t86    \t10524.6\t10935.8\n",
      "54 \t90    \t10524.6\t11056  \n",
      "55 \t86    \t10524.6\t11062.2\n",
      "56 \t86    \t10524.6\t11046  \n",
      "57 \t81    \t10499.4\t11164.8\n",
      "58 \t77    \t10499.4\t11055.1\n",
      "59 \t80    \t10499.4\t11219.4\n",
      "60 \t81    \t10499.4\t11397  \n",
      "61 \t85    \t10240  \t11318.5\n",
      "62 \t83    \t10240  \t11358.4\n",
      "63 \t87    \t10240  \t11607  \n",
      "64 \t83    \t10240  \t11271.9\n",
      "65 \t90    \t10240  \t11186.9\n",
      "66 \t87    \t10240  \t11379.5\n",
      "67 \t82    \t10240  \t11187  \n",
      "68 \t75    \t10122.3\t11054.2\n",
      "69 \t87    \t10122.3\t11045.3\n",
      "70 \t78    \t10122.3\t10805  \n",
      "71 \t87    \t10122.3\t10700.6\n",
      "72 \t83    \t10122.3\t10836.2\n",
      "73 \t87    \t10000.3\t11016  \n",
      "74 \t80    \t10000.3\t10851.4\n",
      "75 \t83    \t10000.3\t10836.9\n",
      "76 \t78    \t10000.3\t10757.4\n",
      "77 \t84    \t10000.3\t10618.3\n",
      "78 \t88    \t10000.3\t10617.8\n",
      "79 \t78    \t10000.3\t10709  \n",
      "80 \t79    \t10000.3\t10733.1\n",
      "81 \t87    \t10000.3\t10684.9\n",
      "82 \t87    \t10000.3\t10347.2\n",
      "83 \t78    \t10000.3\t10388.7\n",
      "84 \t84    \t10000.3\t10227.3\n",
      "85 \t86    \t10000.3\t10337  \n",
      "86 \t79    \t10000.3\t10120.5\n",
      "87 \t80    \t10000.3\t10161.7\n",
      "88 \t80    \t10000.3\t10192.1\n",
      "89 \t80    \t10000.3\t10160.6\n",
      "90 \t85    \t10000.3\t10162  \n",
      "91 \t81    \t10000.3\t10241.3\n",
      "92 \t77    \t10000.3\t10499.1\n",
      "93 \t84    \t10000.3\t10089.8\n",
      "94 \t80    \t10000.3\t10336.5\n",
      "95 \t82    \t10000.3\t10158.3\n",
      "96 \t79    \t10000.3\t10150.1\n",
      "97 \t80    \t10000.3\t10086.3\n",
      "98 \t79    \t10000.3\t10221.2\n",
      "99 \t79    \t10000.3\t10337.9\n",
      "100\t88    \t10000.3\t10074.7\n",
      "101\t87    \t10000.3\t10270.3\n",
      "102\t77    \t10000.3\t10153  \n",
      "103\t77    \t10000.3\t10328.4\n",
      "104\t78    \t10000.3\t10134.3\n",
      "105\t78    \t10000.3\t10019.6\n",
      "106\t81    \t10000.3\t10144.1\n",
      "107\t81    \t10000.3\t10150.8\n",
      "108\t84    \t10000.3\t10241  \n",
      "109\t76    \t10000.3\t10155.6\n",
      "110\t83    \t10000.3\t10008  \n",
      "111\t74    \t10000.3\t10438.1\n",
      "112\t84    \t10000.3\t10217.6\n",
      "113\t83    \t10000.3\t10232  \n",
      "114\t81    \t10000.3\t10174.5\n",
      "115\t85    \t10000.3\t10132.8\n",
      "116\t86    \t10000.3\t10166.6\n",
      "117\t80    \t10000.3\t10239  \n",
      "118\t74    \t10000.3\t10105.5\n",
      "119\t77    \t10000.3\t10163.6\n",
      "120\t85    \t10000.3\t10219.2\n",
      "121\t78    \t10000.3\t10162.9\n",
      "122\t83    \t10000.3\t10046.9\n",
      "123\t86    \t10000.3\t10161  \n",
      "124\t84    \t10000.3\t10132.2\n",
      "125\t82    \t10000.3\t10292  \n",
      "126\t70    \t10000.3\t10280.9\n",
      "127\t78    \t10000.3\t10129.8\n",
      "128\t80    \t10000.3\t10104.4\n",
      "129\t82    \t10000.3\t10327.5\n",
      "130\t83    \t10000.3\t10233.5\n",
      "131\t83    \t10000.3\t10120.8\n",
      "132\t78    \t10000.3\t10226.2\n",
      "133\t80    \t10000.3\t10263.2\n",
      "134\t85    \t10000.3\t10086.4\n",
      "135\t86    \t10000.3\t10297.3\n",
      "136\t83    \t10000.3\t10170.4\n",
      "137\t82    \t10000.3\t10245.1\n",
      "138\t81    \t10000.3\t10297.5\n",
      "139\t75    \t10000.3\t10120.7\n",
      "140\t78    \t10000.3\t10111.4\n",
      "141\t86    \t10000.3\t10094.9\n",
      "142\t87    \t10000.3\t10424.8\n",
      "143\t81    \t10000.3\t10172.6\n",
      "144\t88    \t10000.3\t10238  \n",
      "145\t74    \t10000.3\t10244.4\n",
      "146\t80    \t10000.3\t10069.4\n",
      "147\t80    \t10000.3\t10149.8\n",
      "148\t82    \t10000.3\t10060.6\n",
      "149\t84    \t10000.3\t10143.8\n",
      "150\t83    \t10000.3\t10182  \n",
      "151\t74    \t10000.3\t10137.3\n",
      "152\t82    \t10000.3\t10180.3\n",
      "153\t83    \t10000.3\t10191.3\n",
      "154\t82    \t10000.3\t10296.3\n",
      "155\t81    \t10000.3\t10255.3\n",
      "156\t87    \t10000.3\t10539.8\n",
      "157\t82    \t10000.3\t10480.7\n",
      "158\t81    \t10000.3\t10157.8\n",
      "159\t88    \t10000.3\t10157.6\n",
      "160\t80    \t10000.3\t10202  \n",
      "161\t79    \t10000.3\t10131.4\n",
      "162\t84    \t10000.3\t10283.5\n",
      "163\t84    \t10000.3\t10085.6\n",
      "164\t85    \t10000.3\t10190.6\n",
      "165\t78    \t10000.3\t10142.9\n",
      "166\t76    \t10000.3\t10107.5\n",
      "167\t82    \t10000.3\t10302.8\n",
      "168\t84    \t10000.3\t10154.1\n",
      "169\t83    \t10000.3\t10237.7\n",
      "170\t78    \t10000.3\t10216  \n",
      "171\t83    \t10000.3\t10091.6\n",
      "172\t78    \t10000.3\t10217.2\n",
      "173\t78    \t10000.3\t10321.3\n",
      "174\t83    \t10000.3\t10304.8\n",
      "175\t81    \t10000.3\t10231.6\n",
      "176\t82    \t10000.3\t10261.6\n",
      "177\t79    \t10000.3\t10205.2\n",
      "178\t83    \t10000.3\t10151  \n",
      "179\t85    \t10000.3\t10186.7\n",
      "180\t83    \t9955.78\t10195.2\n",
      "181\t81    \t9955.78\t10209.8\n",
      "182\t86    \t9955.78\t10324  \n",
      "183\t81    \t9955.78\t10283.6\n",
      "184\t75    \t9955.78\t10663.2\n",
      "185\t78    \t9955.78\t10423.4\n",
      "186\t81    \t9955.78\t10549.1\n",
      "187\t84    \t9955.78\t10424.7\n",
      "188\t82    \t9955.78\t10105  \n",
      "189\t82    \t9955.78\t10199.8\n",
      "190\t89    \t9955.78\t10262.2\n",
      "191\t84    \t9955.78\t10364.8\n",
      "192\t75    \t9955.78\t10269.2\n",
      "193\t88    \t9955.78\t10077.1\n",
      "194\t81    \t9955.78\t10184.2\n",
      "195\t80    \t9955.78\t10219.2\n",
      "196\t83    \t9955.78\t10189.3\n",
      "197\t80    \t9955.78\t10283.4\n",
      "198\t87    \t9955.78\t10043.1\n",
      "199\t82    \t9955.78\t10070.3\n",
      "200\t80    \t9955.78\t10320.3\n"
     ]
    }
   ],
   "source": [
    "for gen in range(1, NUM_GENERATIONS + 1):\n",
    "    # Select the next generation individuals\n",
    "    offspring = toolbox.select(population, len(population) - hof_size)\n",
    "\n",
    "    # Vary the pool of individuals\n",
    "    offspring = algorithms.varAnd(offspring, toolbox, P_CROSSOVER, P_MUTATION)\n",
    "\n",
    "    # Evaluate the individuals with an invalid fitness\n",
    "    invalid_ind = [ind for ind in offspring if not ind.fitness.valid]\n",
    "    fitnesses = toolbox.map(toolbox.evaluate, invalid_ind)\n",
    "    for ind, fit in zip(invalid_ind, fitnesses):\n",
    "        ind.fitness.values = fit\n",
    "\n",
    "    # add the best back to population:\n",
    "    offspring.extend(hof.items)\n",
    "\n",
    "    # Update the hall of fame with the generated individuals\n",
    "    hof.update(offspring)\n",
    "\n",
    "    # Replace the current population by the offspring\n",
    "    population[:] = offspring\n",
    "\n",
    "    # Append the current generation statistics to the logbook\n",
    "    record = stats.compile(population) if stats else {}\n",
    "    logbook.record(gen=gen, nevals=len(invalid_ind), **record)\n",
    "    print(logbook.stream)\n"
   ],
   "metadata": {
    "collapsed": false,
    "pycharm": {
     "name": "#%%\n"
    }
   }
  },
  {
   "cell_type": "markdown",
   "source": [
    "Now we can get the best individual from the hall of fame and plot the optimum path.\n",
    "We can see that about the 90th generation the average and minimum path are very similar, that meas that the algorithm\n",
    "has converged to an \"optimal\" solution. We need to take into account that the \"optimal\" can be a local optima, not the\n",
    "global optimum."
   ],
   "metadata": {
    "collapsed": false,
    "pycharm": {
     "name": "#%% md\n"
    }
   }
  },
  {
   "cell_type": "code",
   "execution_count": 82,
   "outputs": [
    {
     "name": "stdout",
     "output_type": "stream",
     "text": [
      "Best Individual =  Individual('i', [13, 21, 16, 17, 14, 3, 9, 19, 20, 5, 11, 8, 4, 25, 28, 2, 1, 12, 24, 6, 22, 26, 7, 27, 0, 23, 15, 18, 10])\n",
      "Best Fitness =  9955.779296875\n"
     ]
    },
    {
     "data": {
      "text/plain": "<Figure size 432x288 with 0 Axes>"
     },
     "metadata": {},
     "output_type": "display_data"
    },
    {
     "data": {
      "text/plain": "<Figure size 432x288 with 1 Axes>",
      "image/png": "[encoded data removed]"
     },
     "metadata": {},
     "output_type": "display_data"
    },
    {
     "data": {
      "text/plain": "[<matplotlib.lines.Line2D at 0x145769af0>]"
     },
     "execution_count": 82,
     "metadata": {},
     "output_type": "execute_result"
    },
    {
     "data": {
      "text/plain": "<Figure size 432x288 with 1 Axes>",
      "image/png": "[encoded data removed]"
     },
     "metadata": {},
     "output_type": "display_data"
    }
   ],
   "source": [
    "best = hof.items[0]\n",
    "print('Best Individual = ', best)\n",
    "print('Best Fitness = ', best.fitness.values[0])\n",
    "plt.figure(1)\n",
    "\n",
    "# plot genetic flow statistics:\n",
    "minFitnessValues, meanFitnessValues = logbook.select(\"min\", \"avg\")\n",
    "plt.figure(2)\n",
    "sns.set_style(\"whitegrid\")\n",
    "plt.plot(minFitnessValues, color='red')\n",
    "plt.plot(meanFitnessValues, color='green')\n",
    "plt.xlabel('Generation')\n",
    "plt.ylabel('Min / Average Fitness')\n",
    "plt.title('Min and Average fitness over Generations')\n",
    "# show both plots:\n",
    "plt.show()\n",
    "\n",
    "# now plot the best travelling path.\n",
    "plt.scatter(*zip(*CITIES), marker='.', color='red')\n",
    "locs = [CITIES[i] for i in best]\n",
    "locs.append(locs[0])\n",
    "plt.plot(*zip(*locs), linestyle='-', color='blue')\n"
   ],
   "metadata": {
    "collapsed": false,
    "pycharm": {
     "name": "#%%\n"
    }
   }
  },
  {
   "cell_type": "markdown",
   "source": [
    "## Conclusions\n",
    "We can draw the following conclusions from this problem.\n",
    "- The genetic algorithm finds a local optima in about the 90th iteration, we could stop the genetic flow at that moment\n",
    "when the mean fitness is close to the minimum fitness with some arbitrary epsilon, because that means that\n",
    "the whole population has converged around a local optima, and the mutation operator will not be able to generate more\n",
    "diverse individuals that could lead to exploration in other more promising regions of the problem space. If we stop\n",
    "before, we could save processing resources that are wasted doing unnecessary iterations.\n",
    "- This algorithm is not parallelized, we could speed up the execution of the genetic flow by using\n",
    "the python multiprocessing module, threading here will not be very useful because this is a CPU-bound problem, not\n",
    "IO-bound, so the Python Global Interpreter Lock (GIL) will generate thread contention, while if we choose\n",
    "multiprocessing we can bypass the GIL and apply the genetic operators in concurrently.\n",
    "- By using a genetic algorithm we can generate an optimal solution, without investing time learning or implementing a\n",
    "custom algorithm, that maybe will find the global optima, but it will be tied to this specific problem. With genetic\n",
    "algorithms we can find a \"better\" solution by just defining a suitable representation of the TSP problem as an\n",
    "*individual*.\n",
    "\n",
    "## Further Experiments\n",
    "Just for fun we could do the following experiments.\n",
    "- What happens if we create a genetic algorithms that optimizes the hyper-parameters? We \"wrap\" this algorithm into a\n",
    "genetic algorithm that instead optimizes the tournament selection parameter, the crossover parameter, the mutation\n",
    "parameters, and the number of iterations, so it automatically restarts the genetic flow to search for additional optima\n",
    "in other parts of the problem space. We can create arrays of different operators implementations, and then apply a\n",
    "\"mutation\" by selecting a new operator implementation.\n",
    "- What happens if we change some operators for some individuals? At generation 30th, we don't mate using two point crossover,\n",
    "we switch to a new crossover implementation. This could lead to a random-search.\n",
    "- We could at the end of the genetic flow, increase the mutation parameter and restart the algorithm, so we increase\n",
    "the chance of finding new local optima in other parts of the problem space."
   ],
   "metadata": {
    "collapsed": false,
    "pycharm": {
     "name": "#%% md\n"
    }
   }
  }
 ],
 "metadata": {
  "kernelspec": {
   "display_name": "Python 3",
   "language": "python",
   "name": "python3"
  },
  "language_info": {
   "codemirror_mode": {
    "name": "ipython",
    "version": 2
   },
   "file_extension": ".py",
   "mimetype": "text/x-python",
   "name": "python",
   "nbconvert_exporter": "python",
   "pygments_lexer": "ipython2",
   "version": "2.7.6"
  }
 },
 "nbformat": 4,
 "nbformat_minor": 0
}